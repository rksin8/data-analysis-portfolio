{
 "cells": [
  {
   "cell_type": "markdown",
   "id": "6b6440aa",
   "metadata": {},
   "source": [
    "# Loading data"
   ]
  },
  {
   "cell_type": "markdown",
   "id": "e428c294",
   "metadata": {},
   "source": [
    "# Cleaning data"
   ]
  },
  {
   "cell_type": "code",
   "execution_count": null,
   "id": "b98ef15b",
   "metadata": {
    "vscode": {
     "languageId": "plaintext"
    }
   },
   "outputs": [],
   "source": []
  },
  {
   "cell_type": "markdown",
   "id": "92ab60a5",
   "metadata": {},
   "source": [
    "# Calculating KPIs"
   ]
  },
  {
   "cell_type": "markdown",
   "id": "3238943b",
   "metadata": {},
   "source": [
    "# Visualizing sales trends"
   ]
  },
  {
   "cell_type": "markdown",
   "id": "99a95928",
   "metadata": {},
   "source": [
    "# Customer segmentation"
   ]
  }
 ],
 "metadata": {
  "language_info": {
   "name": "python"
  }
 },
 "nbformat": 4,
 "nbformat_minor": 5
}
